{
 "metadata": {
  "kernelspec": {
   "language": "python",
   "display_name": "Python 3",
   "name": "python3"
  },
  "language_info": {
   "name": "python",
   "version": "3.10.13",
   "mimetype": "text/x-python",
   "codemirror_mode": {
    "name": "ipython",
    "version": 3
   },
   "pygments_lexer": "ipython3",
   "nbconvert_exporter": "python",
   "file_extension": ".py"
  },
  "kaggle": {
   "accelerator": "nvidiaTeslaT4",
   "dataSources": [
    {
     "sourceId": 3205803,
     "sourceType": "datasetVersion",
     "datasetId": 1918992
    }
   ],
   "dockerImageVersionId": 30699,
   "isInternetEnabled": true,
   "language": "python",
   "sourceType": "notebook",
   "isGpuEnabled": true
  }
 },
 "nbformat_minor": 4,
 "nbformat": 4,
 "cells": [
  {
   "cell_type": "code",
   "source": [
    "import torch\n",
    "from torch import nn, optim\n",
    "from torch.utils.data import Dataset, DataLoader\n",
    "from torch.optim.lr_scheduler import ReduceLROnPlateau\n",
    "\n",
    "import random\n",
    "import seaborn as sns\n",
    "import matplotlib.pyplot as plt\n",
    "import pandas as pd\n",
    "import numpy as np\n",
    "\n",
    "import transformers\n",
    "from transformers import BertModel, BertTokenizer, AdamW, get_linear_schedule_with_warmup\n",
    "\n",
    "from sklearn.model_selection import train_test_split\n",
    "from sklearn.preprocessing import LabelEncoder\n",
    "from sklearn.metrics import confusion_matrix,classification_report, accuracy_score\n",
    "\n",
    "random_seed = 42\n",
    "np.random.seed(random_seed)\n",
    "torch.manual_seed(random_seed)\n",
    "random.seed(random_seed)\n",
    "\n",
    "data = pd.read_csv('./data.csv') # Load dataset\n",
    "data.head()"
   ],
   "metadata": {
    "execution": {
     "iopub.status.busy": "2024-05-24T07:09:53.783649Z",
     "iopub.execute_input": "2024-05-24T07:09:53.784183Z",
     "iopub.status.idle": "2024-05-24T07:10:06.507317Z",
     "shell.execute_reply.started": "2024-05-24T07:09:53.784142Z",
     "shell.execute_reply": "2024-05-24T07:10:06.506208Z"
    },
    "trusted": true,
    "pycharm": {
     "name": "#%%\n"
    }
   },
   "execution_count": 2,
   "outputs": [
    {
     "execution_count": 2,
     "output_type": "execute_result",
     "data": {
      "text/plain": "                                            Sentence Sentiment\n0  The GeoSolutions technology will leverage Bene...  positive\n1  $ESI on lows, down $1.50 to $2.50 BK a real po...  negative\n2  For the last quarter of 2010 , Componenta 's n...  positive\n3  According to the Finnish-Russian Chamber of Co...   neutral\n4  The Swedish buyout firm has sold its remaining...   neutral",
      "text/html": "<div>\n<style scoped>\n    .dataframe tbody tr th:only-of-type {\n        vertical-align: middle;\n    }\n\n    .dataframe tbody tr th {\n        vertical-align: top;\n    }\n\n    .dataframe thead th {\n        text-align: right;\n    }\n</style>\n<table border=\"1\" class=\"dataframe\">\n  <thead>\n    <tr style=\"text-align: right;\">\n      <th></th>\n      <th>Sentence</th>\n      <th>Sentiment</th>\n    </tr>\n  </thead>\n  <tbody>\n    <tr>\n      <th>0</th>\n      <td>The GeoSolutions technology will leverage Bene...</td>\n      <td>positive</td>\n    </tr>\n    <tr>\n      <th>1</th>\n      <td>$ESI on lows, down $1.50 to $2.50 BK a real po...</td>\n      <td>negative</td>\n    </tr>\n    <tr>\n      <th>2</th>\n      <td>For the last quarter of 2010 , Componenta 's n...</td>\n      <td>positive</td>\n    </tr>\n    <tr>\n      <th>3</th>\n      <td>According to the Finnish-Russian Chamber of Co...</td>\n      <td>neutral</td>\n    </tr>\n    <tr>\n      <th>4</th>\n      <td>The Swedish buyout firm has sold its remaining...</td>\n      <td>neutral</td>\n    </tr>\n  </tbody>\n</table>\n</div>"
     },
     "metadata": {}
    }
   ]
  },
  {
   "cell_type": "code",
   "source": [
    "print(len(data), \"before\")\n",
    "data.drop_duplicates(inplace=True) # Drop duplicates\n",
    "data.dropna(inplace=True) # Handle missing values (if any)\n",
    "print(len(data), \"after\")"
   ],
   "metadata": {
    "execution": {
     "iopub.status.busy": "2024-05-24T07:10:06.508596Z",
     "iopub.execute_input": "2024-05-24T07:10:06.508901Z",
     "iopub.status.idle": "2024-05-24T07:10:06.529315Z",
     "shell.execute_reply.started": "2024-05-24T07:10:06.508873Z",
     "shell.execute_reply": "2024-05-24T07:10:06.528360Z"
    },
    "trusted": true,
    "pycharm": {
     "name": "#%%\n"
    }
   },
   "execution_count": 3,
   "outputs": [
    {
     "name": "stdout",
     "text": "5842 before\n5836 after\n",
     "output_type": "stream"
    }
   ]
  },
  {
   "cell_type": "code",
   "source": [
    "# One hot encoding of the target variable\n",
    "encoder = LabelEncoder()\n",
    "labels = encoder.fit_transform(data.Sentiment)\n",
    "print(labels)\n",
    "print(encoder.classes_)"
   ],
   "metadata": {
    "execution": {
     "iopub.status.busy": "2024-05-24T07:10:06.531982Z",
     "iopub.execute_input": "2024-05-24T07:10:06.532585Z",
     "iopub.status.idle": "2024-05-24T07:10:06.539494Z",
     "shell.execute_reply.started": "2024-05-24T07:10:06.532558Z",
     "shell.execute_reply": "2024-05-24T07:10:06.538481Z"
    },
    "trusted": true,
    "pycharm": {
     "name": "#%%\n"
    }
   },
   "execution_count": 4,
   "outputs": [
    {
     "name": "stdout",
     "text": "[2 0 2 ... 1 1 2]\n['negative' 'neutral' 'positive']\n",
     "output_type": "stream"
    }
   ]
  },
  {
   "cell_type": "code",
   "source": [
    "# Configuration of the Model and Hyperparameters\n",
    "model_name = 'bert-base-uncased'\n",
    "tokenizer = transformers.BertTokenizer.from_pretrained(model_name)\n",
    "hyperparameter = {\n",
    "    'max_len' : 50,\n",
    "    'batch_size' : 16,\n",
    "    'device' : torch.device('cuda'),\n",
    "    'lr_rate' : 2e-5,\n",
    "    'epochs' : 10,\n",
    "    'num_classes' : 3,\n",
    "}"
   ],
   "metadata": {
    "execution": {
     "iopub.status.busy": "2024-05-24T07:10:06.540615Z",
     "iopub.execute_input": "2024-05-24T07:10:06.540884Z",
     "iopub.status.idle": "2024-05-24T07:10:07.417898Z",
     "shell.execute_reply.started": "2024-05-24T07:10:06.540860Z",
     "shell.execute_reply": "2024-05-24T07:10:07.417102Z"
    },
    "trusted": true,
    "pycharm": {
     "name": "#%%\n"
    }
   },
   "execution_count": 5,
   "outputs": [
    {
     "output_type": "display_data",
     "data": {
      "text/plain": "tokenizer_config.json:   0%|          | 0.00/48.0 [00:00<?, ?B/s]",
      "application/vnd.jupyter.widget-view+json": {
       "version_major": 2,
       "version_minor": 0,
       "model_id": "b3a41281501f41b18797ef5bd546564f"
      }
     },
     "metadata": {}
    },
    {
     "output_type": "display_data",
     "data": {
      "text/plain": "vocab.txt:   0%|          | 0.00/232k [00:00<?, ?B/s]",
      "application/vnd.jupyter.widget-view+json": {
       "version_major": 2,
       "version_minor": 0,
       "model_id": "e1a5158ac8a74ba58ef0a5ee6f20fb34"
      }
     },
     "metadata": {}
    },
    {
     "output_type": "display_data",
     "data": {
      "text/plain": "tokenizer.json:   0%|          | 0.00/466k [00:00<?, ?B/s]",
      "application/vnd.jupyter.widget-view+json": {
       "version_major": 2,
       "version_minor": 0,
       "model_id": "d62466ffbea849d7a13b942189d64961"
      }
     },
     "metadata": {}
    },
    {
     "output_type": "display_data",
     "data": {
      "text/plain": "config.json:   0%|          | 0.00/570 [00:00<?, ?B/s]",
      "application/vnd.jupyter.widget-view+json": {
       "version_major": 2,
       "version_minor": 0,
       "model_id": "d335c46252e44efcac1c4a1cbdd8c8c0"
      }
     },
     "metadata": {}
    }
   ]
  },
  {
   "cell_type": "code",
   "source": [
    "# Train, val, test split (80,10,10)\n",
    "X_train, X_val_test, y_train, y_val_test = train_test_split(data.Sentence.values, labels, test_size=.2, random_state=random_seed)\n",
    "X_val, X_test, y_val, y_test = train_test_split(X_val_test, y_val_test, test_size=.5, random_state=random_seed)"
   ],
   "metadata": {
    "execution": {
     "iopub.status.busy": "2024-05-24T07:10:07.419089Z",
     "iopub.execute_input": "2024-05-24T07:10:07.419805Z",
     "iopub.status.idle": "2024-05-24T07:10:07.432331Z",
     "shell.execute_reply.started": "2024-05-24T07:10:07.419773Z",
     "shell.execute_reply": "2024-05-24T07:10:07.431243Z"
    },
    "trusted": true,
    "pycharm": {
     "name": "#%%\n"
    }
   },
   "execution_count": 6,
   "outputs": []
  },
  {
   "cell_type": "code",
   "source": [
    "# Custom Dataset class handling the tokenization\n",
    "class CustomDataset(Dataset):\n",
    "    def __init__(self, data, targets, tokenizer, max_len):\n",
    "        self.data = data  # Df containing filepaths and labels of imgs\n",
    "        self.targets = targets\n",
    "        self.tokenizer = tokenizer\n",
    "        self.max_len = max_len\n",
    "\n",
    "    def __len__(self):\n",
    "        return len(self.data)\n",
    "\n",
    "    def __getitem__(self, index):\n",
    "        sentence = self.data[index]\n",
    "        encoding = self.tokenizer.encode_plus(sentence,\n",
    "                                              max_length=self.max_len,\n",
    "                                              add_special_tokens=True,\n",
    "                                              padding='max_length',\n",
    "                                              truncation=True,\n",
    "                                              return_attention_mask=True,\n",
    "                                              return_token_type_ids=False,\n",
    "                                              return_tensors='pt')\n",
    "        \n",
    "        return {\n",
    "            'input_ids': torch.squeeze(encoding['input_ids'],dim=0),\n",
    "            'attention_mask': torch.squeeze(encoding['attention_mask'],dim=0),\n",
    "            'targets': torch.tensor(self.targets[index],dtype=torch.long)\n",
    "        }"
   ],
   "metadata": {
    "execution": {
     "iopub.status.busy": "2024-05-24T07:10:07.433714Z",
     "iopub.execute_input": "2024-05-24T07:10:07.434035Z",
     "iopub.status.idle": "2024-05-24T07:10:07.443404Z",
     "shell.execute_reply.started": "2024-05-24T07:10:07.433993Z",
     "shell.execute_reply": "2024-05-24T07:10:07.442412Z"
    },
    "trusted": true,
    "pycharm": {
     "name": "#%%\n"
    }
   },
   "execution_count": 7,
   "outputs": []
  },
  {
   "cell_type": "code",
   "source": [
    "train_dataset = CustomDataset(X_train, y_train, tokenizer, hyperparameter['max_len'])\n",
    "train_loader = DataLoader(train_dataset,\n",
    "                             batch_size = hyperparameter['batch_size'],\n",
    "                             num_workers = 2)\n",
    "\n",
    "val_dataset = CustomDataset(X_val, y_val, tokenizer, hyperparameter['max_len'])\n",
    "val_loader = DataLoader(val_dataset,\n",
    "                             batch_size = hyperparameter['batch_size'],\n",
    "                             num_workers = 2)\n",
    "\n",
    "test_dataset = CustomDataset(X_test, y_test, tokenizer, hyperparameter['max_len'])\n",
    "test_loader = DataLoader(test_dataset,\n",
    "                        batch_size = hyperparameter['batch_size'],\n",
    "                        num_workers = 2)"
   ],
   "metadata": {
    "execution": {
     "iopub.status.busy": "2024-05-24T07:10:07.444564Z",
     "iopub.execute_input": "2024-05-24T07:10:07.444835Z",
     "iopub.status.idle": "2024-05-24T07:10:07.457451Z",
     "shell.execute_reply.started": "2024-05-24T07:10:07.444812Z",
     "shell.execute_reply": "2024-05-24T07:10:07.456708Z"
    },
    "trusted": true,
    "pycharm": {
     "name": "#%%\n"
    }
   },
   "execution_count": 8,
   "outputs": []
  },
  {
   "cell_type": "code",
   "source": [
    "# Classifier with adapted classification head\n",
    "class SentimentClassifier(nn.Module):\n",
    "    def __init__(self,n_classes):\n",
    "        super(SentimentClassifier, self).__init__()\n",
    "        self.model = BertModel.from_pretrained(model_name)\n",
    "        self.drop = nn.Dropout(p=.3)\n",
    "        self.out = nn.Linear(self.model.config.hidden_size, n_classes)\n",
    "        self.softmax = nn.Softmax(dim=1)\n",
    "    def forward(self,input_ids, attention_mask):\n",
    "        _, pooled_output = self.model(input_ids=input_ids,attention_mask=attention_mask,return_dict = False)\n",
    "        output = self.drop(pooled_output)\n",
    "        output = self.out(output)\n",
    "        return self.softmax(output)"
   ],
   "metadata": {
    "execution": {
     "iopub.status.busy": "2024-05-24T07:10:07.458601Z",
     "iopub.execute_input": "2024-05-24T07:10:07.458864Z",
     "iopub.status.idle": "2024-05-24T07:10:07.477079Z",
     "shell.execute_reply.started": "2024-05-24T07:10:07.458841Z",
     "shell.execute_reply": "2024-05-24T07:10:07.476306Z"
    },
    "trusted": true,
    "pycharm": {
     "name": "#%%\n"
    }
   },
   "execution_count": 9,
   "outputs": []
  },
  {
   "cell_type": "code",
   "source": [
    "class Metrics(object):\n",
    "    '''Class to compute metric averages'''\n",
    "    def __init__(self):\n",
    "        self.reset()\n",
    "\n",
    "    def reset(self):\n",
    "        self.loss, self.acc = 0, 0\n",
    "        self.avg_loss, self.avg_acc = 0, 0\n",
    "        self.sum_loss, self.sum_acc = 0, 0\n",
    "        self.count = 0\n",
    "\n",
    "    def update(self, loss, acc, n=1):\n",
    "        self.loss, self.acc = loss, acc\n",
    "        self.sum_loss += loss * n\n",
    "        self.sum_acc += acc * n\n",
    "        self.count += n\n",
    "        self.avg_loss, self.avg_acc = self.sum_loss / self.count, self.sum_acc / self.count\n",
    "        \n",
    "class Log(object):\n",
    "    '''Class to record loss & accuracy'''\n",
    "    def __init__(self):\n",
    "        self.train_accuracy = []\n",
    "        self.train_loss = []\n",
    "        self.val_accuracy = []\n",
    "        self.val_loss = []\n",
    "    def append(self, train, val):\n",
    "        self.train_loss.append(train.avg_loss)\n",
    "        self.train_accuracy.append(train.avg_acc)\n",
    "        self.val_loss.append(val.avg_loss)\n",
    "        self.val_accuracy.append(val.avg_acc)"
   ],
   "metadata": {
    "execution": {
     "iopub.status.busy": "2024-05-24T07:10:07.480166Z",
     "iopub.execute_input": "2024-05-24T07:10:07.480474Z",
     "iopub.status.idle": "2024-05-24T07:10:07.492268Z",
     "shell.execute_reply.started": "2024-05-24T07:10:07.480449Z",
     "shell.execute_reply": "2024-05-24T07:10:07.491490Z"
    },
    "trusted": true,
    "pycharm": {
     "name": "#%%\n"
    }
   },
   "execution_count": 10,
   "outputs": []
  },
  {
   "cell_type": "code",
   "source": [
    "class Trainer:\n",
    "\n",
    "    def __init__(self,\n",
    "                 model,  # Model to be trained.\n",
    "                 crit,  # Loss function\n",
    "                 optim=None,  # Optimizer\n",
    "                 train_dl=None,  # Training data set\n",
    "                 val_test_dl=None,  # Validation (or test) data set\n",
    "                 device='cuda',  # Whether to use the GPU\n",
    "                 early_stopping_patience=-1,  # The patience for early stopping\n",
    "                 scheduler=None):\n",
    "        self._model = model\n",
    "        self._crit = crit\n",
    "        self._optim = optim\n",
    "        self._train_dl = train_dl\n",
    "        self._val_test_dl = val_test_dl\n",
    "        self._device = device\n",
    "        self._early_stopping_patience = early_stopping_patience\n",
    "        self.checkpoint = None\n",
    "        self.scheduler = scheduler\n",
    "\n",
    "        self._model = self._model.to(device)\n",
    "        self._crit = self._crit.to(device)\n",
    "\n",
    "    def save_checkpoint(self):\n",
    "        '''Overwriting checkpoint whenever validation loss is improved'''\n",
    "        torch.save(self._model.state_dict(), f'best.pth')\n",
    "\n",
    "    def restore_best_checkpoint(self):\n",
    "        '''Restore model weights of epoch with best validation loss'''\n",
    "        self._model.load_state_dict(torch.load('./best.pth'))\n",
    "\n",
    "    def train_step(self, input_ids, attention_mask, targets):\n",
    "\n",
    "        # Reset gradients to zero\n",
    "        self._optim.zero_grad()\n",
    "\n",
    "        # Forward pass: compute predicted y\n",
    "        y_hat = self._model(input_ids=input_ids, attention_mask=attention_mask)\n",
    "        preds = torch.argmax(y_hat, dim=1)\n",
    "        \n",
    "        # Compute loss\n",
    "        loss = self._crit(y_hat, targets)\n",
    "        \n",
    "        # Calculate Metric (accuracy)\n",
    "        acc = self.metric_calc(preds, targets)\n",
    "\n",
    "        # Backward pass: compute gradient of the loss with respect to model parameters\n",
    "        loss.backward()\n",
    "\n",
    "        # Update model parameters\n",
    "        self._optim.step()\n",
    "\n",
    "        # Return loss and predicted y\n",
    "        return loss, y_hat, acc\n",
    "\n",
    "    def val_test_step(self, input_ids, attention_mask, targets):\n",
    "\n",
    "        # Forward pass: compute predicted y\n",
    "        y_hat = self._model(input_ids=input_ids, attention_mask=attention_mask)\n",
    "\n",
    "        # Compute validation loss\n",
    "        loss = self._crit(y_hat, targets)\n",
    "        preds = torch.argmax(y_hat, dim=1)\n",
    "        \n",
    "        # Compute Metric (accuracy)\n",
    "        acc = self.metric_calc(preds, targets)\n",
    "\n",
    "        # Return validation loss and predicted y\n",
    "        return loss, y_hat, acc\n",
    "\n",
    "    def train_epoch(self):\n",
    "    \n",
    "        # Set training mode\n",
    "        self._model.train()\n",
    "        \n",
    "        metrics = Metrics()\n",
    "\n",
    "        # Iterate over batches in the training set\n",
    "        for i, batch in enumerate(self._train_dl):\n",
    "            input_ids = batch['input_ids']\n",
    "            attention_mask = batch['attention_mask']\n",
    "            targets = batch['targets']\n",
    "\n",
    "            # Move tensors to GPU if available\n",
    "            input_ids = input_ids.to(self._device, non_blocking=True).long()\n",
    "            attention_mask = attention_mask.to(self._device, non_blocking=True).long()\n",
    "            targets = targets.to(self._device, non_blocking=True).long()\n",
    "\n",
    "            loss, preds, acc = self.train_step(input_ids = input_ids,\n",
    "                                          attention_mask = attention_mask,\n",
    "                                          targets = targets)\n",
    "\n",
    "            metrics.update(loss.item(), acc, hyperparameter[\"batch_size\"])\n",
    "\n",
    "        print(f\"\\tTraining Loss: {metrics.avg_loss}, Training Accuracy: {metrics.avg_acc}\")\n",
    "\n",
    "        return metrics\n",
    "\n",
    "    def val_test(self):\n",
    "\n",
    "        # Set evaluation mode\n",
    "        self._model.eval()\n",
    "        \n",
    "        metrics = Metrics()\n",
    "\n",
    "        # Disable gradient computation\n",
    "        with torch.no_grad():\n",
    "\n",
    "            # Iterate over batches in the training set\n",
    "            for i, batch in enumerate(self._val_test_dl):\n",
    "                input_ids = batch['input_ids']\n",
    "                attention_mask = batch['attention_mask']\n",
    "                targets = batch['targets']\n",
    "\n",
    "                input_ids = input_ids.to(self._device, non_blocking=True).long()\n",
    "                attention_mask = attention_mask.to(self._device, non_blocking=True).long()\n",
    "                targets = targets.to(self._device, non_blocking=True).long()\n",
    "                \n",
    "                loss, preds, acc = self.val_test_step(input_ids = input_ids,\n",
    "                                          attention_mask = attention_mask,\n",
    "                                          targets = targets)\n",
    "                \n",
    "                metrics.update(loss.item(), acc, hyperparameter[\"batch_size\"])\n",
    "\n",
    "        print(f\"\\t Validation Loss: {metrics.avg_loss}, Validation Accuracy: {metrics.avg_acc}\")\n",
    "\n",
    "        return metrics\n",
    "\n",
    "    def metric_calc(self, preds, labels):\n",
    "        # Accuracy\n",
    "        correct = 0\n",
    "        for pred, label in zip(preds, labels):\n",
    "            if pred == label:\n",
    "                correct += 1\n",
    "        return correct/len(preds)\n",
    "\n",
    "    def fit(self, epochs=-1):\n",
    "        assert self._early_stopping_patience > 0 or epochs > 0\n",
    "        log = Log() # Saving Loss and Accuracies\n",
    "        epoch = 1\n",
    "        no_improvements = 0\n",
    "        best_loss = 10**5\n",
    "        epoch_best = None\n",
    "\n",
    "        # Continue training until stopping condition is met\n",
    "        while True:\n",
    "\n",
    "            # Stop by epoch number\n",
    "            if epoch > epochs:\n",
    "                self.restore_best_checkpoint()\n",
    "                print(f\"The lowest validation loss was achieved in epoch {epoch_best}\")\n",
    "                break\n",
    "\n",
    "            # Train the model for one epoch and record training and validation losses\n",
    "            print(f'Epoch: {epoch}')\n",
    "            train_metrics = self.train_epoch()\n",
    "            val_metrics = self.val_test()\n",
    "            log.append(train_metrics, val_metrics)\n",
    "            \n",
    "            # Adjust learning rate using scheduler if available\n",
    "            if self.scheduler:\n",
    "                self.scheduler.step(val_metrics.avg_loss)\n",
    "\n",
    "            # Save the checkpoint if validation loss is lowest\n",
    "            if val_metrics.avg_loss < best_loss:\n",
    "                self.save_checkpoint()\n",
    "                no_improvements = 0\n",
    "                best_loss = val_metrics.avg_loss\n",
    "                epoch_best = epoch\n",
    "            else:\n",
    "                no_improvements += 1\n",
    "\n",
    "            # Check if early stopping condition met\n",
    "            if no_improvements >= self._early_stopping_patience:\n",
    "                self.restore_best_checkpoint()\n",
    "                print(f\"Early stopping. The lowest validation loss was achieved in epoch {epoch_best}\")\n",
    "                break\n",
    "            epoch += 1\n",
    "\n",
    "        return log"
   ],
   "metadata": {
    "execution": {
     "iopub.status.busy": "2024-05-24T07:10:07.493787Z",
     "iopub.execute_input": "2024-05-24T07:10:07.494159Z",
     "iopub.status.idle": "2024-05-24T07:10:07.522801Z",
     "shell.execute_reply.started": "2024-05-24T07:10:07.494126Z",
     "shell.execute_reply": "2024-05-24T07:10:07.521710Z"
    },
    "trusted": true,
    "pycharm": {
     "name": "#%%\n"
    }
   },
   "execution_count": 11,
   "outputs": []
  },
  {
   "cell_type": "code",
   "source": [
    "model = SentimentClassifier(hyperparameter['num_classes'])\n",
    "criterion = torch.nn.CrossEntropyLoss()\n",
    "optimizer = optim.AdamW(model.parameters(), lr=hyperparameter['lr_rate'])\n",
    "scheduler = ReduceLROnPlateau(optimizer, 'min')\n",
    "\n",
    "trainer = Trainer(model=model,\n",
    "                  crit=criterion,\n",
    "                  optim=optimizer,\n",
    "                  train_dl=train_loader,\n",
    "                  val_test_dl=val_loader,\n",
    "                  device='cuda',\n",
    "                  early_stopping_patience=30,\n",
    "                  scheduler=scheduler)\n",
    "\n",
    "# Call fit on trainer\n",
    "log = trainer.fit(hyperparameter['epochs'])"
   ],
   "metadata": {
    "execution": {
     "iopub.status.busy": "2024-05-24T07:10:07.523984Z",
     "iopub.execute_input": "2024-05-24T07:10:07.524288Z",
     "iopub.status.idle": "2024-05-24T07:18:32.644839Z",
     "shell.execute_reply.started": "2024-05-24T07:10:07.524238Z",
     "shell.execute_reply": "2024-05-24T07:18:32.643660Z"
    },
    "trusted": true,
    "pycharm": {
     "name": "#%%\n"
    }
   },
   "execution_count": 12,
   "outputs": [
    {
     "output_type": "display_data",
     "data": {
      "text/plain": "model.safetensors:   0%|          | 0.00/440M [00:00<?, ?B/s]",
      "application/vnd.jupyter.widget-view+json": {
       "version_major": 2,
       "version_minor": 0,
       "model_id": "59f7eaa631a0450db782ee029f121d99"
      }
     },
     "metadata": {}
    },
    {
     "name": "stdout",
     "text": "Epoch: 1\n\tTraining Loss: 0.865711263597828, Training Accuracy: 0.6829337899543378\n\t Validation Loss: 0.7417130905228693, Validation Accuracy: 0.7972972972972973\nEpoch: 2\n\tTraining Loss: 0.7371742513081799, Training Accuracy: 0.8025114155251142\n\t Validation Loss: 0.7766986086561873, Validation Accuracy: 0.7466216216216216\nEpoch: 3\n\tTraining Loss: 0.7130141266404766, Training Accuracy: 0.8273401826484018\n\t Validation Loss: 0.7232833762426634, Validation Accuracy: 0.7888513513513513\nEpoch: 4\n\tTraining Loss: 0.7094070237793334, Training Accuracy: 0.8309788812785388\n\t Validation Loss: 0.7455800948916255, Validation Accuracy: 0.7753378378378378\nEpoch: 5\n\tTraining Loss: 0.6924793438552177, Training Accuracy: 0.8456763698630136\n\t Validation Loss: 0.7417251628798407, Validation Accuracy: 0.7736486486486487\nEpoch: 6\n\tTraining Loss: 0.6900764279169579, Training Accuracy: 0.8492437214611872\n\t Validation Loss: 0.7398061430132067, Validation Accuracy: 0.7837837837837838\nEpoch: 7\n\tTraining Loss: 0.6865033985000767, Training Accuracy: 0.85238299086758\n\t Validation Loss: 0.7409256422841871, Validation Accuracy: 0.7871621621621622\nEpoch: 8\n\tTraining Loss: 0.6856885893295889, Training Accuracy: 0.8538099315068494\n\t Validation Loss: 0.7316426489804242, Validation Accuracy: 0.8057432432432432\nEpoch: 9\n\tTraining Loss: 0.6799229167095603, Training Accuracy: 0.8573059360730594\n\t Validation Loss: 0.7281574623004811, Validation Accuracy: 0.8006756756756757\nEpoch: 10\n\tTraining Loss: 0.6761544050827418, Training Accuracy: 0.8655108447488584\n\t Validation Loss: 0.7501615962466678, Validation Accuracy: 0.7837837837837838\nThe lowest validation loss was achieved in epoch 3\n",
     "output_type": "stream"
    }
   ]
  },
  {
   "cell_type": "code",
   "source": [
    "fig, axs = plt.subplots(1,2,figsize=(13,5))\n",
    "\n",
    "def plot_log(ax, train_value, val_value, label):\n",
    "    sns.lineplot(y=train_value,x=range(1,hyperparameter['epochs']+1),ax=ax,label=f'train_{label}')\n",
    "    sns.lineplot(y=val_value,x=range(1,hyperparameter['epochs']+1),ax=ax,label=f'val_{label}')\n",
    "    ax.set_title(f'Change of {label}')\n",
    "    ax.set_xlabel('Epoch')\n",
    "    ax.set_ylabel(label)\n",
    "    \n",
    "plot_log(axs[0],log.train_loss,log.val_loss,'Loss')\n",
    "plot_log(axs[1],log.train_accuracy,log.val_accuracy,'Accuracy')"
   ],
   "metadata": {
    "execution": {
     "iopub.status.busy": "2024-05-24T07:18:32.646661Z",
     "iopub.execute_input": "2024-05-24T07:18:32.647414Z",
     "iopub.status.idle": "2024-05-24T07:18:33.374073Z",
     "shell.execute_reply.started": "2024-05-24T07:18:32.647363Z",
     "shell.execute_reply": "2024-05-24T07:18:33.373138Z"
    },
    "trusted": true,
    "pycharm": {
     "name": "#%%\n"
    }
   },
   "execution_count": 13,
   "outputs": [
    {
     "name": "stderr",
     "text": "/opt/conda/lib/python3.10/site-packages/seaborn/_oldcore.py:1119: FutureWarning: use_inf_as_na option is deprecated and will be removed in a future version. Convert inf values to NaN before operating instead.\n  with pd.option_context('mode.use_inf_as_na', True):\n/opt/conda/lib/python3.10/site-packages/seaborn/_oldcore.py:1119: FutureWarning: use_inf_as_na option is deprecated and will be removed in a future version. Convert inf values to NaN before operating instead.\n  with pd.option_context('mode.use_inf_as_na', True):\n/opt/conda/lib/python3.10/site-packages/seaborn/_oldcore.py:1119: FutureWarning: use_inf_as_na option is deprecated and will be removed in a future version. Convert inf values to NaN before operating instead.\n  with pd.option_context('mode.use_inf_as_na', True):\n/opt/conda/lib/python3.10/site-packages/seaborn/_oldcore.py:1119: FutureWarning: use_inf_as_na option is deprecated and will be removed in a future version. Convert inf values to NaN before operating instead.\n  with pd.option_context('mode.use_inf_as_na', True):\n/opt/conda/lib/python3.10/site-packages/seaborn/_oldcore.py:1119: FutureWarning: use_inf_as_na option is deprecated and will be removed in a future version. Convert inf values to NaN before operating instead.\n  with pd.option_context('mode.use_inf_as_na', True):\n/opt/conda/lib/python3.10/site-packages/seaborn/_oldcore.py:1119: FutureWarning: use_inf_as_na option is deprecated and will be removed in a future version. Convert inf values to NaN before operating instead.\n  with pd.option_context('mode.use_inf_as_na', True):\n/opt/conda/lib/python3.10/site-packages/seaborn/_oldcore.py:1119: FutureWarning: use_inf_as_na option is deprecated and will be removed in a future version. Convert inf values to NaN before operating instead.\n  with pd.option_context('mode.use_inf_as_na', True):\n/opt/conda/lib/python3.10/site-packages/seaborn/_oldcore.py:1119: FutureWarning: use_inf_as_na option is deprecated and will be removed in a future version. Convert inf values to NaN before operating instead.\n  with pd.option_context('mode.use_inf_as_na', True):\n",
     "output_type": "stream"
    },
    {
     "output_type": "display_data",
     "data": {
      "text/plain": "<Figure size 1300x500 with 2 Axes>",
      "image/png": "[encoded data removed]"
     },
     "metadata": {}
    }
   ]
  },
  {
   "cell_type": "markdown",
   "source": [
    "# Model Evaluation"
   ],
   "metadata": {
    "pycharm": {
     "name": "#%% md\n"
    }
   }
  },
  {
   "cell_type": "code",
   "source": [
    "device = hyperparameter['device']\n",
    "model = SentimentClassifier(hyperparameter['num_classes'])\n",
    "model.load_state_dict(torch.load('./best.pth'))\n",
    "model.to(device)\n",
    "model.eval()\n",
    "labels = []\n",
    "predictions = []"
   ],
   "metadata": {
    "execution": {
     "iopub.status.busy": "2024-05-24T07:18:33.375229Z",
     "iopub.execute_input": "2024-05-24T07:18:33.375535Z",
     "iopub.status.idle": "2024-05-24T07:18:34.364040Z",
     "shell.execute_reply.started": "2024-05-24T07:18:33.375511Z",
     "shell.execute_reply": "2024-05-24T07:18:34.363273Z"
    },
    "trusted": true,
    "pycharm": {
     "name": "#%%\n"
    }
   },
   "execution_count": 14,
   "outputs": []
  },
  {
   "cell_type": "code",
   "source": [
    "with torch.no_grad():\n",
    "    for i, batch in enumerate(test_loader):\n",
    "        input_ids = batch['input_ids']\n",
    "        attention_mask = batch['attention_mask']\n",
    "        targets = batch['targets']\n",
    "\n",
    "        input_ids = input_ids.to(device, non_blocking=True).long()\n",
    "        attention_mask = attention_mask.to(device, non_blocking=True).long()\n",
    "        targets = targets.to(device, non_blocking=True).long()\n",
    "\n",
    "        outputs = model(input_ids=input_ids, attention_mask=attention_mask)    \n",
    "        preds = torch.argmax(outputs, dim=1)\n",
    "        preds_list = [pred.item() for pred in preds]\n",
    "        labels_list = [label.item() for label in targets]\n",
    "\n",
    "        labels.extend(labels_list)\n",
    "        predictions.extend(preds_list)"
   ],
   "metadata": {
    "execution": {
     "iopub.status.busy": "2024-05-24T07:18:34.365344Z",
     "iopub.execute_input": "2024-05-24T07:18:34.366132Z",
     "iopub.status.idle": "2024-05-24T07:18:36.412208Z",
     "shell.execute_reply.started": "2024-05-24T07:18:34.366096Z",
     "shell.execute_reply": "2024-05-24T07:18:36.411152Z"
    },
    "trusted": true,
    "pycharm": {
     "name": "#%%\n"
    }
   },
   "execution_count": 15,
   "outputs": []
  },
  {
   "cell_type": "code",
   "source": [
    "# visualize predictions\n",
    "sns.set_theme(style='whitegrid',rc={'figure.figsize':(8,6)})\n",
    "cf_matrix = confusion_matrix(labels, predictions)\n",
    "sns.heatmap(cf_matrix,annot=True,cmap='Reds',fmt=\"g\",xticklabels=encoder.classes_,yticklabels=encoder.classes_)"
   ],
   "metadata": {
    "execution": {
     "iopub.status.busy": "2024-05-24T07:18:36.413812Z",
     "iopub.execute_input": "2024-05-24T07:18:36.414188Z",
     "iopub.status.idle": "2024-05-24T07:18:36.804738Z",
     "shell.execute_reply.started": "2024-05-24T07:18:36.414150Z",
     "shell.execute_reply": "2024-05-24T07:18:36.803481Z"
    },
    "trusted": true,
    "pycharm": {
     "name": "#%%\n"
    }
   },
   "execution_count": 16,
   "outputs": [
    {
     "output_type": "display_data",
     "data": {
      "text/plain": "<Figure size 800x600 with 2 Axes>",
      "image/png": "[encoded data removed]"
     },
     "metadata": {}
    }
   ]
  },
  {
   "cell_type": "code",
   "source": [
    "label_preds = encoder.inverse_transform(predictions)\n",
    "label_targets = encoder.inverse_transform(labels)\n",
    "\n",
    "print(classification_report(label_targets,label_preds))"
   ],
   "metadata": {
    "execution": {
     "iopub.status.busy": "2024-05-24T07:18:36.806126Z",
     "iopub.execute_input": "2024-05-24T07:18:36.806486Z",
     "iopub.status.idle": "2024-05-24T07:18:36.849679Z",
     "shell.execute_reply.started": "2024-05-24T07:18:36.806457Z",
     "shell.execute_reply": "2024-05-24T07:18:36.848549Z"
    },
    "trusted": true,
    "pycharm": {
     "name": "#%%\n"
    }
   },
   "execution_count": 17,
   "outputs": [
    {
     "name": "stdout",
     "text": "              precision    recall  f1-score   support\n\n    negative       0.47      0.63      0.54        71\n     neutral       0.86      0.83      0.84       338\n    positive       0.83      0.77      0.80       175\n\n    accuracy                           0.79       584\n   macro avg       0.72      0.74      0.73       584\nweighted avg       0.80      0.79      0.79       584\n\n",
     "output_type": "stream"
    }
   ]
  },
  {
   "cell_type": "code",
   "source": [
    "# Predict sentiment for new data\n",
    "new_sentences = [\"the company's robust earnings have significantly boosted investor confidence\",\n",
    "                 \"the firm's deteriorating cash flow has caused its stock to plummet\",\n",
    "                 \"Solomon has had cereals for breakfast\"]\n",
    "def encode(sentence):\n",
    "    encoding = tokenizer.encode_plus(sentence,\n",
    "                          max_length=hyperparameter['max_len'],\n",
    "                          add_special_tokens=True,\n",
    "                          padding='max_length',\n",
    "                          truncation=True,\n",
    "                          return_attention_mask=True,\n",
    "                          return_token_type_ids=False,\n",
    "                          return_tensors='pt')\n",
    "    return {\n",
    "        'input_ids': torch.squeeze(encoding['input_ids'],dim=0),\n",
    "        'attention_mask': torch.squeeze(encoding['attention_mask'],dim=0),\n",
    "    }\n",
    "\n",
    "\n",
    "encodings = [encode(sentence) for sentence in new_sentences]\n",
    "\n",
    "ids = torch.stack([i['input_ids'] for i in encodings])\n",
    "masks = torch.stack([i['attention_mask'] for i in encodings])\n",
    "ids = ids.to(device, non_blocking=True).long()\n",
    "masks = masks.to(device, non_blocking=True).long()\n",
    "\n",
    "outputs = model(input_ids=ids, attention_mask=masks)\n",
    "preds = torch.argmax(outputs, dim=1)\n",
    "preds_list = [pred.item() for pred in preds]\n",
    "\n",
    "label_preds = encoder.inverse_transform(preds_list)\n",
    "for i in range(len(new_sentences)): \n",
    "    print(f\"{new_sentences[i]} - {label_preds[i]}\")"
   ],
   "metadata": {
    "execution": {
     "iopub.status.busy": "2024-05-24T07:18:36.851249Z",
     "iopub.execute_input": "2024-05-24T07:18:36.851996Z",
     "iopub.status.idle": "2024-05-24T07:18:36.888497Z",
     "shell.execute_reply.started": "2024-05-24T07:18:36.851955Z",
     "shell.execute_reply": "2024-05-24T07:18:36.887539Z"
    },
    "trusted": true,
    "pycharm": {
     "name": "#%%\n"
    }
   },
   "execution_count": 18,
   "outputs": [
    {
     "name": "stdout",
     "text": "the company's robust earnings have significantly boosted investor confidence - positive\nthe firm's deteriorating cash flow has caused its stock to plummet - negative\nSolomon has had cereals for breakfast - neutral\n",
     "output_type": "stream"
    }
   ]
  }
 ]
}